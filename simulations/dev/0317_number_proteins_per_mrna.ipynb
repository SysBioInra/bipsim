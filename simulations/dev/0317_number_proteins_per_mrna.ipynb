{
 "cells": [
  {
   "cell_type": "markdown",
   "metadata": {},
   "source": [
    "The point of this notebook is to investigate the relationship between the number of proteins and the number of mRNAs carrying that protein. In particular, it looks like there are two proteins that are present on 14 different transcripts. We would like to understand why one of the proteins is present in more copies than the other protein, given that transcription rates and translation rates are identical."
   ]
  },
  {
   "cell_type": "markdown",
   "metadata": {},
   "source": [
    "# Which are the proteins that are present on 14 mRNAs?"
   ]
  },
  {
   "cell_type": "code",
   "execution_count": 20,
   "metadata": {},
   "outputs": [],
   "source": [
    "protein_file = \"gene_expression/aggregated_constant\""
   ]
  },
  {
   "cell_type": "code",
   "execution_count": 47,
   "metadata": {},
   "outputs": [],
   "source": [
    "import sys\n",
    "import pandas"
   ]
  },
  {
   "cell_type": "code",
   "execution_count": 22,
   "metadata": {},
   "outputs": [],
   "source": [
    "sys.path.append(\"gene_expression/scripts/\")"
   ]
  },
  {
   "cell_type": "code",
   "execution_count": 45,
   "metadata": {},
   "outputs": [],
   "source": [
    "from number_proteins import ProteinStats\n",
    "from output_molecules import SimulationFiles"
   ]
  },
  {
   "cell_type": "code",
   "execution_count": 25,
   "metadata": {},
   "outputs": [],
   "source": [
    "my_proteins = ProteinStats(protein_file)"
   ]
  },
  {
   "cell_type": "code",
   "execution_count": 26,
   "metadata": {},
   "outputs": [
    {
     "data": {
      "text/plain": [
       "18"
      ]
     },
     "execution_count": 26,
     "metadata": {},
     "output_type": "execute_result"
    }
   ],
   "source": [
    "max(my_proteins.proteins.count.values())"
   ]
  },
  {
   "cell_type": "code",
   "execution_count": 27,
   "metadata": {},
   "outputs": [],
   "source": [
    "candidates = [k for k, v in my_proteins.proteins.count.items() if v == 14]"
   ]
  },
  {
   "cell_type": "code",
   "execution_count": 28,
   "metadata": {},
   "outputs": [
    {
     "data": {
      "text/plain": [
       "['ybaJ_BSU01510',\n",
       " 'ylxS_BSU16590',\n",
       " 'nusA_BSU16600',\n",
       " 'ylxR_BSU16610',\n",
       " 'rplGA_BSU16620',\n",
       " 'infB_BSU16630']"
      ]
     },
     "execution_count": 28,
     "metadata": {},
     "output_type": "execute_result"
    }
   ],
   "source": [
    "candidates"
   ]
  },
  {
   "cell_type": "code",
   "execution_count": 34,
   "metadata": {},
   "outputs": [
    {
     "name": "stdout",
     "output_type": "stream",
     "text": [
      "ybaJ_BSU01510 7484\n",
      "ylxS_BSU16590 3133\n",
      "nusA_BSU16600 3150\n",
      "ylxR_BSU16610 3129\n",
      "rplGA_BSU16620 3092\n",
      "infB_BSU16630 3100\n"
     ]
    }
   ],
   "source": [
    "for c in candidates:\n",
    "    print(c, my_proteins.final_numbers[my_proteins.ids.index(c)])"
   ]
  },
  {
   "cell_type": "markdown",
   "metadata": {},
   "source": [
    "So for some reason ybaJ is way over the top. It's strange that all other mRNAs are consistent. Let's do some basic math here maybe. Every protein is on 14 mRNAs, the simulation runs for 3000s, promoter k_on is 1, k_off is -1, same thing for RBS. There are 18k ribosomes and 1k RNAPs.\n",
    "\n",
    "Because all RNAs have equal binding strengths, we expect RNAPs to not choose one RNA over the other, or ribosomes to make one protein rather than one other one.\n",
    "\n",
    "Actually, while this idea is cute, I just remembered that there is a limited number of mRNAs. So the first question we need to ask is: where do the proteins come from? Is the imbalance already present at the mRNA level?"
   ]
  },
  {
   "cell_type": "code",
   "execution_count": 41,
   "metadata": {},
   "outputs": [],
   "source": [
    "rnas = {c: [rna for prot, rna in my_proteins.proteins.elements if prot == c] for c in candidates}"
   ]
  },
  {
   "cell_type": "code",
   "execution_count": 42,
   "metadata": {},
   "outputs": [
    {
     "data": {
      "text/plain": [
       "{'ybaJ_BSU01510': ['U81',\n",
       "  'U79',\n",
       "  'U83',\n",
       "  'U84',\n",
       "  'U86',\n",
       "  'U88',\n",
       "  'U90',\n",
       "  'U94',\n",
       "  'U97',\n",
       "  'U98',\n",
       "  'U102',\n",
       "  'U100',\n",
       "  'U104',\n",
       "  'U103'],\n",
       " 'ylxS_BSU16590': ['U1312',\n",
       "  'U1313',\n",
       "  'U1315',\n",
       "  'U1317',\n",
       "  'U1319',\n",
       "  'U1321',\n",
       "  'U1324',\n",
       "  'U1323',\n",
       "  'U1327',\n",
       "  'U1328',\n",
       "  'U1329',\n",
       "  'U1330',\n",
       "  'U1332',\n",
       "  'U1331'],\n",
       " 'nusA_BSU16600': ['U1312',\n",
       "  'U1313',\n",
       "  'U1315',\n",
       "  'U1317',\n",
       "  'U1319',\n",
       "  'U1321',\n",
       "  'U1324',\n",
       "  'U1323',\n",
       "  'U1327',\n",
       "  'U1328',\n",
       "  'U1329',\n",
       "  'U1330',\n",
       "  'U1332',\n",
       "  'U1331'],\n",
       " 'ylxR_BSU16610': ['U1312',\n",
       "  'U1313',\n",
       "  'U1315',\n",
       "  'U1317',\n",
       "  'U1319',\n",
       "  'U1321',\n",
       "  'U1324',\n",
       "  'U1323',\n",
       "  'U1327',\n",
       "  'U1328',\n",
       "  'U1329',\n",
       "  'U1330',\n",
       "  'U1332',\n",
       "  'U1331'],\n",
       " 'rplGA_BSU16620': ['U1312',\n",
       "  'U1313',\n",
       "  'U1315',\n",
       "  'U1317',\n",
       "  'U1319',\n",
       "  'U1321',\n",
       "  'U1324',\n",
       "  'U1323',\n",
       "  'U1327',\n",
       "  'U1328',\n",
       "  'U1329',\n",
       "  'U1330',\n",
       "  'U1332',\n",
       "  'U1331'],\n",
       " 'infB_BSU16630': ['U1312',\n",
       "  'U1313',\n",
       "  'U1315',\n",
       "  'U1317',\n",
       "  'U1319',\n",
       "  'U1321',\n",
       "  'U1324',\n",
       "  'U1323',\n",
       "  'U1327',\n",
       "  'U1328',\n",
       "  'U1329',\n",
       "  'U1330',\n",
       "  'U1332',\n",
       "  'U1331']}"
      ]
     },
     "execution_count": 42,
     "metadata": {},
     "output_type": "execute_result"
    }
   ],
   "source": [
    "rnas"
   ]
  },
  {
   "cell_type": "markdown",
   "metadata": {},
   "source": [
    "Okay so this explains the consistency of all the mRNAs that have around 3k proteins."
   ]
  },
  {
   "cell_type": "code",
   "execution_count": 48,
   "metadata": {},
   "outputs": [],
   "source": [
    "files = SimulationFiles(protein_file)\n",
    "chemicals = pandas.read_csv(files.output_path('chemicals.out'),\n",
    "                            sep='\\t')\n",
    "final_numbers = chemicals.iloc[-1]"
   ]
  },
  {
   "cell_type": "code",
   "execution_count": 53,
   "metadata": {},
   "outputs": [
    {
     "data": {
      "text/plain": [
       "['U1312',\n",
       " 'U1313',\n",
       " 'U1315',\n",
       " 'U1317',\n",
       " 'U1319',\n",
       " 'U1321',\n",
       " 'U1324',\n",
       " 'U1323',\n",
       " 'U1327',\n",
       " 'U1328',\n",
       " 'U1329',\n",
       " 'U1330',\n",
       " 'U1332',\n",
       " 'U1331']"
      ]
     },
     "execution_count": 53,
     "metadata": {},
     "output_type": "execute_result"
    }
   ],
   "source": [
    "rnas['ybaJ_BSU01510']\n",
    "rnas['ylxS_BSU16590']"
   ]
  },
  {
   "cell_type": "code",
   "execution_count": 81,
   "metadata": {},
   "outputs": [],
   "source": [
    "outlier_rnas = {r: final_numbers[r] for r in rnas['ybaJ_BSU01510']}\n",
    "common_rnas = {r: final_numbers[r] for r in rnas['ylxS_BSU16590']}"
   ]
  },
  {
   "cell_type": "code",
   "execution_count": 82,
   "metadata": {},
   "outputs": [
    {
     "data": {
      "text/plain": [
       "{'U81': 23,\n",
       " 'U79': 23,\n",
       " 'U83': 0,\n",
       " 'U84': 37,\n",
       " 'U86': 29,\n",
       " 'U88': 28,\n",
       " 'U90': 36,\n",
       " 'U94': 28,\n",
       " 'U97': 45,\n",
       " 'U98': 30,\n",
       " 'U102': 38,\n",
       " 'U100': 0,\n",
       " 'U104': 30,\n",
       " 'U103': 39}"
      ]
     },
     "execution_count": 82,
     "metadata": {},
     "output_type": "execute_result"
    }
   ],
   "source": [
    "outlier_rnas"
   ]
  },
  {
   "cell_type": "code",
   "execution_count": 83,
   "metadata": {},
   "outputs": [
    {
     "data": {
      "text/plain": [
       "{'U1312': 16,\n",
       " 'U1313': 12,\n",
       " 'U1315': 0,\n",
       " 'U1317': 14,\n",
       " 'U1319': 8,\n",
       " 'U1321': 8,\n",
       " 'U1324': 12,\n",
       " 'U1323': 0,\n",
       " 'U1327': 0,\n",
       " 'U1328': 22,\n",
       " 'U1329': 23,\n",
       " 'U1330': 17,\n",
       " 'U1332': 20,\n",
       " 'U1331': 0}"
      ]
     },
     "execution_count": 83,
     "metadata": {},
     "output_type": "execute_result"
    }
   ],
   "source": [
    "common_rnas"
   ]
  },
  {
   "cell_type": "code",
   "execution_count": 84,
   "metadata": {},
   "outputs": [
    {
     "data": {
      "text/plain": [
       "386"
      ]
     },
     "execution_count": 84,
     "metadata": {},
     "output_type": "execute_result"
    }
   ],
   "source": [
    "sum(outlier_rnas.values())"
   ]
  },
  {
   "cell_type": "code",
   "execution_count": 85,
   "metadata": {},
   "outputs": [
    {
     "data": {
      "text/plain": [
       "152"
      ]
     },
     "execution_count": 85,
     "metadata": {},
     "output_type": "execute_result"
    }
   ],
   "source": [
    "sum(common_rnas.values())"
   ]
  },
  {
   "cell_type": "markdown",
   "metadata": {},
   "source": [
    "So the difference in expression is actually explained at the RNA level. Why is it that some mRNAs are expressed at such high levels?"
   ]
  },
  {
   "cell_type": "code",
   "execution_count": 62,
   "metadata": {},
   "outputs": [
    {
     "data": {
      "text/plain": [
       "time                   3000\n",
       "rna_tracker           45731\n",
       "protein_tracker     3246032\n",
       "dATP               97655242\n",
       "dCTP               98192081\n",
       "dGTP               98192044\n",
       "dTTP               97655356\n",
       "ATP                 4200000\n",
       "CTP                  120000\n",
       "GTP                 3000000\n",
       "UTP                  300000\n",
       "chromosome                1\n",
       "U1                       36\n",
       "U4                       38\n",
       "U5                       36\n",
       "U10                      32\n",
       "U13                      31\n",
       "U726                     36\n",
       "U727                     22\n",
       "U728                     31\n",
       "U733                     28\n",
       "U734                     31\n",
       "U1.1                     36\n",
       "U4.1                     38\n",
       "U5.1                     36\n",
       "U11                       0\n",
       "U10.1                    32\n",
       "U13.1                    31\n",
       "U15                      26\n",
       "U19                      38\n",
       "                     ...   \n",
       "yclN_BSU03800          1082\n",
       "yjcO_BSU11930           619\n",
       "ycbJ_BSU02520          1699\n",
       "yttB_BSU30350           520\n",
       "sdpB_BSU33760          1070\n",
       "yktD_BSU14690           797\n",
       "ymaF_BSU17320             0\n",
       "sqhC_BSU19320           452\n",
       "tagB_BSU35760           611\n",
       "spoIIB_BSU28060        1094\n",
       "yycD_BSU40450             0\n",
       "yvaV_BSU33740           833\n",
       "dhaS_BSU19310           517\n",
       "yheE_BSU09760           463\n",
       "pta_BSU37660            970\n",
       "ykzN_BSU13169             0\n",
       "yvdB_BSU34660          1164\n",
       "csbC_BSU39810             0\n",
       "yfmD_BSU07510          2237\n",
       "ylqC_BSU16000           196\n",
       "ytxK_BSU29480           734\n",
       "yisJ_BSU10740             0\n",
       "yoqX_BSU20480           459\n",
       "yjmC_BSU12320             0\n",
       "ycgH_BSU03110             0\n",
       "spoVM_BSU15810          948\n",
       "fliG_BSU16220          1692\n",
       "accD_BSU29210          2131\n",
       "yomN_BSU21290             0\n",
       "yloA_BSU15640           631\n",
       "Name: 300, Length: 6509, dtype: int64"
      ]
     },
     "execution_count": 62,
     "metadata": {},
     "output_type": "execute_result"
    }
   ],
   "source": [
    "final_numbers"
   ]
  },
  {
   "cell_type": "markdown",
   "metadata": {},
   "source": [
    "There are 45731 transcripts at the end of the simulation."
   ]
  },
  {
   "cell_type": "code",
   "execution_count": 70,
   "metadata": {},
   "outputs": [],
   "source": [
    "all_rnas = [name for name in final_numbers.index if name[0] == 'U']"
   ]
  },
  {
   "cell_type": "code",
   "execution_count": 77,
   "metadata": {},
   "outputs": [],
   "source": [
    "all_rnas.remove('UTP')"
   ]
  },
  {
   "cell_type": "code",
   "execution_count": 78,
   "metadata": {},
   "outputs": [
    {
     "data": {
      "text/plain": [
       "2632"
      ]
     },
     "execution_count": 78,
     "metadata": {},
     "output_type": "execute_result"
    }
   ],
   "source": [
    "len(all_rnas)"
   ]
  },
  {
   "cell_type": "markdown",
   "metadata": {},
   "source": [
    "There are 2632 rnas, so the average number of mRNA copy is"
   ]
  },
  {
   "cell_type": "code",
   "execution_count": 74,
   "metadata": {},
   "outputs": [
    {
     "data": {
      "text/plain": [
       "17.375"
      ]
     },
     "execution_count": 74,
     "metadata": {},
     "output_type": "execute_result"
    }
   ],
   "source": [
    "45731 / 2632"
   ]
  },
  {
   "cell_type": "markdown",
   "metadata": {},
   "source": [
    "It looks like the outlier RNAs are the real outliers here. Why would they be expressed at twice the average value?"
   ]
  },
  {
   "cell_type": "code",
   "execution_count": 87,
   "metadata": {},
   "outputs": [],
   "source": [
    "import matplotlib.pyplot as plt\n",
    "import numpy as np"
   ]
  },
  {
   "cell_type": "code",
   "execution_count": 79,
   "metadata": {},
   "outputs": [],
   "source": [
    "all_rnas_expr = [final_numbers[r] for r in all_rnas]"
   ]
  },
  {
   "cell_type": "code",
   "execution_count": 80,
   "metadata": {},
   "outputs": [
    {
     "data": {
      "text/plain": [
       "(array([953.,  20., 271., 500., 542., 280.,  50.,  13.,   2.,   1.]),\n",
       " array([ 0. ,  6.7, 13.4, 20.1, 26.8, 33.5, 40.2, 46.9, 53.6, 60.3, 67. ]),\n",
       " <a list of 10 Patch objects>)"
      ]
     },
     "execution_count": 80,
     "metadata": {},
     "output_type": "execute_result"
    },
    {
     "data": {
      "image/png": "[encoded data removed]",
      "text/plain": [
       "<Figure size 432x288 with 1 Axes>"
      ]
     },
     "metadata": {
      "needs_background": "light"
     },
     "output_type": "display_data"
    }
   ],
   "source": [
    "plt.hist(all_rnas_expr)"
   ]
  },
  {
   "cell_type": "markdown",
   "metadata": {},
   "source": [
    "Hmm actually a large number of mRNAs are not expressed, shifting the average to around 30, so the outlier is not really an outlier anymore?\n",
    "\n",
    "Well it simply looks like a lot of mRNAs are not expressed because their sigma factor is not present. Let's remove zero counts here and look at the distribution again."
   ]
  },
  {
   "cell_type": "code",
   "execution_count": 91,
   "metadata": {},
   "outputs": [
    {
     "data": {
      "text/plain": [
       "27.156175771971498"
      ]
     },
     "execution_count": 91,
     "metadata": {},
     "output_type": "execute_result"
    }
   ],
   "source": [
    "total_rna_expr = 45731\n",
    "all_rnas_expr = np.array(all_rnas_expr)\n",
    "total_rna_expr / sum(all_rnas_expr != 0)"
   ]
  },
  {
   "cell_type": "code",
   "execution_count": 99,
   "metadata": {},
   "outputs": [
    {
     "data": {
      "text/plain": [
       "(array([  5.,  39., 252., 600., 442., 280.,  51.,  12.,   2.,   1.]),\n",
       " array([ 1. ,  7.6, 14.2, 20.8, 27.4, 34. , 40.6, 47.2, 53.8, 60.4, 67. ]),\n",
       " <a list of 10 Patch objects>)"
      ]
     },
     "execution_count": 99,
     "metadata": {},
     "output_type": "execute_result"
    },
    {
     "data": {
      "image/png": "[encoded data removed]",
      "text/plain": [
       "<Figure size 432x288 with 1 Axes>"
      ]
     },
     "metadata": {
      "needs_background": "light"
     },
     "output_type": "display_data"
    }
   ],
   "source": [
    "plt.hist(all_rnas_expr[all_rnas_expr != 0])"
   ]
  },
  {
   "cell_type": "code",
   "execution_count": 98,
   "metadata": {},
   "outputs": [
    {
     "data": {
      "text/plain": [
       "(array([4., 0., 0., 2., 0., 2., 2., 1., 1., 2.]),\n",
       " array([ 0. ,  2.3,  4.6,  6.9,  9.2, 11.5, 13.8, 16.1, 18.4, 20.7, 23. ]),\n",
       " <a list of 10 Patch objects>)"
      ]
     },
     "execution_count": 98,
     "metadata": {},
     "output_type": "execute_result"
    },
    {
     "data": {
      "image/png": "[encoded data removed]",
      "text/plain": [
       "<Figure size 432x288 with 1 Axes>"
      ]
     },
     "metadata": {
      "needs_background": "light"
     },
     "output_type": "display_data"
    }
   ],
   "source": [
    "plt.hist(outlier_rnas.values())\n",
    "plt.hist(common_rnas.values())"
   ]
  },
  {
   "cell_type": "code",
   "execution_count": 110,
   "metadata": {},
   "outputs": [],
   "source": [
    "outliers = np.array(list(outlier_rnas.values()))\n",
    "outliers = outliers[outliers != 0]\n",
    "commons = np.array(list(common_rnas.values()))\n",
    "commons = commons[commons != 0]"
   ]
  },
  {
   "cell_type": "code",
   "execution_count": 113,
   "metadata": {},
   "outputs": [
    {
     "name": "stdout",
     "output_type": "stream",
     "text": [
      "32.166666666666664\n",
      "15.2\n"
     ]
    }
   ],
   "source": [
    "print(np.average(outliers))\n",
    "print(np.average(commons))"
   ]
  },
  {
   "cell_type": "markdown",
   "metadata": {},
   "source": [
    "The two distribution are quite extreme, but it's shocking how low the \"common\" values are... Maybe it's just a size problem?"
   ]
  },
  {
   "cell_type": "code",
   "execution_count": 114,
   "metadata": {},
   "outputs": [],
   "source": [
    "from chemical_sequences import Rnas"
   ]
  },
  {
   "cell_type": "code",
   "execution_count": 115,
   "metadata": {},
   "outputs": [],
   "source": [
    "my_rnas = Rnas(\"gene_expression/aggregated_constant/input/rnas.in\")"
   ]
  },
  {
   "cell_type": "code",
   "execution_count": 118,
   "metadata": {},
   "outputs": [],
   "source": [
    "rna_length = {r: int(l[1]) - int(l[0]) for r, l in my_rnas.start_and_stop.items()}"
   ]
  },
  {
   "cell_type": "code",
   "execution_count": 127,
   "metadata": {},
   "outputs": [],
   "source": [
    "my_rna_expr = [final_numbers[r] for r in rna_length]"
   ]
  },
  {
   "cell_type": "code",
   "execution_count": 133,
   "metadata": {},
   "outputs": [
    {
     "data": {
      "text/plain": [
       "<matplotlib.collections.PathCollection at 0x7eff4cfa4cf8>"
      ]
     },
     "execution_count": 133,
     "metadata": {},
     "output_type": "execute_result"
    },
    {
     "data": {
      "image/png": "[encoded data removed]",
      "text/plain": [
       "<Figure size 432x288 with 1 Axes>"
      ]
     },
     "metadata": {
      "needs_background": "light"
     },
     "output_type": "display_data"
    }
   ],
   "source": [
    "plt.scatter(rna_length.values(), my_rna_expr)"
   ]
  },
  {
   "cell_type": "code",
   "execution_count": 132,
   "metadata": {},
   "outputs": [
    {
     "data": {
      "image/png": "[encoded data removed]",
      "text/plain": [
       "<Figure size 432x288 with 1 Axes>"
      ]
     },
     "metadata": {
      "needs_background": "light"
     },
     "output_type": "display_data"
    }
   ],
   "source": [
    "plt.scatter(rna_length.values(), my_rna_expr)\n",
    "ax = plt.gca()\n",
    "ax.set_xscale('log')"
   ]
  },
  {
   "cell_type": "code",
   "execution_count": 129,
   "metadata": {},
   "outputs": [
    {
     "data": {
      "text/plain": [
       "<matplotlib.collections.PathCollection at 0x7eff4bcfe6a0>"
      ]
     },
     "execution_count": 129,
     "metadata": {},
     "output_type": "execute_result"
    },
    {
     "data": {
      "image/png": "[encoded data removed]",
      "text/plain": [
       "<Figure size 432x288 with 1 Axes>"
      ]
     },
     "metadata": {
      "needs_background": "light"
     },
     "output_type": "display_data"
    }
   ],
   "source": [
    "my_rna_length = [rna_length[r] for r in outlier_rnas]\n",
    "plt.scatter(my_rna_length, outlier_rnas.values())"
   ]
  },
  {
   "cell_type": "code",
   "execution_count": 131,
   "metadata": {},
   "outputs": [
    {
     "data": {
      "text/plain": [
       "<matplotlib.collections.PathCollection at 0x7eff4b889e10>"
      ]
     },
     "execution_count": 131,
     "metadata": {},
     "output_type": "execute_result"
    },
    {
     "data": {
      "image/png": "[encoded data removed]",
      "text/plain": [
       "<Figure size 432x288 with 1 Axes>"
      ]
     },
     "metadata": {
      "needs_background": "light"
     },
     "output_type": "display_data"
    }
   ],
   "source": [
    "my_rna_length = [rna_length[r] for r in common_rnas]\n",
    "plt.scatter(my_rna_length, common_rnas.values())"
   ]
  },
  {
   "cell_type": "markdown",
   "metadata": {},
   "source": [
    "It's possible that there is a sligth downward trend with size, that RNAPs get stalled along the very long RNAs when nucleotides go lacking.\n",
    "\n",
    "It's also strange that the \"outliers\" are consistently high.\n",
    "\n",
    "Some subtle biases may be at play here, but it's pretty difficult to judge."
   ]
  },
  {
   "cell_type": "code",
   "execution_count": null,
   "metadata": {},
   "outputs": [],
   "source": []
  }
 ],
 "metadata": {
  "kernelspec": {
   "display_name": "Python 3",
   "language": "python",
   "name": "python3"
  },
  "language_info": {
   "codemirror_mode": {
    "name": "ipython",
    "version": 3
   },
   "file_extension": ".py",
   "mimetype": "text/x-python",
   "name": "python",
   "nbconvert_exporter": "python",
   "pygments_lexer": "ipython3",
   "version": "3.7.3"
  }
 },
 "nbformat": 4,
 "nbformat_minor": 4
}
